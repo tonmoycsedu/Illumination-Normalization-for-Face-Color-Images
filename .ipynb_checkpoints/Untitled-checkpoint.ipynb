{
 "cells": [
  {
   "cell_type": "code",
   "execution_count": 1,
   "metadata": {},
   "outputs": [
    {
     "data": {
      "image/png": "[encoded data removed]",
      "text/plain": [
       "<matplotlib.figure.Figure at 0x7f715c3e8668>"
      ]
     },
     "metadata": {},
     "output_type": "display_data"
    }
   ],
   "source": [
    "import cv2\n",
    "import numpy as np\n",
    "from matplotlib import pyplot as plt\n",
    "\n",
    "img = cv2.imread('Img58.jpg',0)\n",
    "\n",
    "hist,bins = np.histogram(img.flatten(),256,[0,256])\n",
    "\n",
    "cdf = hist.cumsum()\n",
    "cdf_normalized = cdf * hist.max()/ cdf.max()\n",
    "\n",
    "plt.plot(cdf_normalized, color = 'b')\n",
    "plt.hist(img.flatten(),256,[0,256], color = 'r')\n",
    "plt.xlim([0,256])\n",
    "plt.legend(('cdf','histogram'), loc = 'upper left')\n",
    "plt.show()\n"
   ]
  },
  {
   "cell_type": "code",
   "execution_count": 3,
   "metadata": {},
   "outputs": [
    {
     "data": {
      "text/plain": [
       "True"
      ]
     },
     "execution_count": 3,
     "metadata": {},
     "output_type": "execute_result"
    }
   ],
   "source": [
    "img = cv2.imread('Img63.jpg',0)\n",
    "equ = cv2.equalizeHist(img)\n",
    "res = np.hstack((img,equ)) #stacking images side-by-side\n",
    "cv2.imwrite('res.png',res)\n"
   ]
  },
  {
   "cell_type": "code",
   "execution_count": 2,
   "metadata": {},
   "outputs": [
    {
     "data": {
      "text/plain": [
       "True"
      ]
     },
     "execution_count": 2,
     "metadata": {},
     "output_type": "execute_result"
    }
   ],
   "source": [
    "import numpy as np\n",
    "import cv2\n",
    "\n",
    "img = cv2.imread('Img63.jpg',0)\n",
    "\n",
    "# create a CLAHE object (Arguments are optional).\n",
    "clahe = cv2.createCLAHE(clipLimit=2.0, tileGridSize=(8,8))\n",
    "cl1 = clahe.apply(img)\n",
    "\n",
    "res = np.hstack((img,cl1))\n",
    "\n",
    "cv2.imwrite('clahe_2.jpg',res)"
   ]
  },
  {
   "cell_type": "code",
   "execution_count": 4,
   "metadata": {},
   "outputs": [
    {
     "data": {
      "text/plain": [
       "True"
      ]
     },
     "execution_count": 4,
     "metadata": {},
     "output_type": "execute_result"
    }
   ],
   "source": [
    "import cv2\n",
    "import numpy as np\n",
    "\n",
    "img = cv2.imread('Img37.jpg')\n",
    "\n",
    "img_yuv = cv2.cvtColor(img, cv2.COLOR_BGR2YUV)\n",
    "\n",
    "# equalize the histogram of the Y channel\n",
    "img_yuv[:,:,0] = cv2.equalizeHist(img_yuv[:,:,0])\n",
    "\n",
    "# convert the YUV image back to RGB format\n",
    "img_output = cv2.cvtColor(img_yuv, cv2.COLOR_YUV2BGR)\n",
    "\n",
    "res = np.hstack((img,img_output))\n",
    "\n",
    "cv2.imwrite('clahe_2.jpg',res)"
   ]
  },
  {
   "cell_type": "code",
   "execution_count": 12,
   "metadata": {
    "collapsed": true
   },
   "outputs": [],
   "source": [
    "import numpy as np\n",
    "\n",
    "def appendSpherical_np(xyz):\n",
    "    ptsnew = np.hstack((xyz, np.zeros(xyz.shape)))\n",
    "    xy = xyz[:,0]**2 + xyz[:,1]**2\n",
    "    ptsnew[:,3] = np.sqrt(xy + xyz[:,2]**2)\n",
    "    ptsnew[:,4] = np.arctan2(np.sqrt(xy), xyz[:,2]) # for elevation angle defined from Z-axis down\n",
    "    #ptsnew[:,4] = np.arctan2(xyz[:,2], np.sqrt(xy)) # for elevation angle defined from XY-plane up\n",
    "    ptsnew[:,5] = np.arctan2(xyz[:,1], xyz[:,0])\n",
    "    return ptsnew"
   ]
  },
  {
   "cell_type": "code",
   "execution_count": 18,
   "metadata": {},
   "outputs": [
    {
     "name": "stdout",
     "output_type": "stream",
     "text": [
      "mouth\n",
      "right_eyebrow\n",
      "left_eyebrow\n",
      "right_eye\n",
      "left_eye\n",
      "nose\n",
      "jaw\n",
      "48 153 400 153 207\n",
      "42 207 393 207 263\n",
      "41 263 379 263 315\n",
      "46 315 362 315 362\n",
      "62 362 346 362 401\n",
      "92 401 323 401 433\n",
      "130 433 296 433 461\n",
      "171 461 263 461 474\n",
      "219 474 219 474 470\n",
      "1079\n",
      "[(360, 0.22222222), (11, 0.23699422), (398, 0.24137931), (965, 0.24242425), (851, 0.24260356), (288, 0.25), (991, 0.25), (931, 0.2525773), (932, 0.2525773), (933, 0.2525773), (934, 0.2525773), (955, 0.2525773), (956, 0.2525773), (957, 0.2525773), (958, 0.2525773), (382, 0.25663716), (795, 0.25663716), (901, 0.25675675), (963, 0.25806451), (852, 0.25925925), (1011, 0.26086956), (412, 0.26203209), (880, 0.26499999), (881, 0.26499999), (909, 0.26499999), (970, 0.26499999), (252, 0.26530612), (993, 0.26530612), (1013, 0.26530612), (910, 0.26633167), (949, 0.26633167), (971, 0.26633167), (962, 0.26666668), (882, 0.26767677), (911, 0.26767677), (930, 0.26767677), (935, 0.26767677), (952, 0.26767677), (953, 0.26767677), (954, 0.26767677), (959, 0.26767677), (976, 0.26767677), (977, 0.26767677), (978, 0.26767677), (979, 0.26767677), (980, 0.26767677), (981, 0.26767677), (982, 0.26767677), (983, 0.26767677), (994, 0.26767677), (995, 0.26767677), (1000, 0.26767677), (1001, 0.26767677), (1002, 0.26767677), (1003, 0.26767677), (1004, 0.26767677), (1005, 0.26767677), (1006, 0.26767677), (1007, 0.26767677), (1014, 0.26767677), (1015, 0.26767677), (1019, 0.26767677), (1020, 0.26767677), (1021, 0.26767677), (1022, 0.26767677), (1023, 0.26767677), (1024, 0.26767677), (1029, 0.26767677), (1030, 0.26767677), (1031, 0.26767677), (1032, 0.26767677), (1033, 0.26767677), (1034, 0.26767677), (1035, 0.26767677), (1036, 0.26767677), (1037, 0.26767677), (1040, 0.26767677), (1041, 0.26767677), (1046, 0.26767677), (1047, 0.26767677), (1048, 0.26767677), (1049, 0.26767677), (1050, 0.26767677), (1059, 0.26767677), (1060, 0.26767677), (1061, 0.26767677), (1062, 0.26767677), (1063, 0.26767677), (1069, 0.26767677), (1070, 0.26767677), (85, 0.26815644), (376, 0.26815644), (410, 0.26815644), (922, 0.26865673), (928, 0.26903552), (1051, 0.26903552), (1052, 0.26903552), (1053, 0.26903552), (1054, 0.26903552), (1064, 0.26903552)]\n"
     ]
    }
   ],
   "source": [
    "# import the necessary packages\n",
    "from imutils import face_utils\n",
    "import numpy as np\n",
    "import imutils\n",
    "import dlib\n",
    "import cv2\n",
    "import operator\n",
    "\n",
    "\n",
    " \n",
    "\n",
    "\n",
    "# the facial landmark predictor\n",
    "detector = dlib.get_frontal_face_detector()\n",
    "predictor = dlib.shape_predictor(\"./Hog_face_detector/shape_predictor_68_face_landmarks.dat\")\n",
    " \n",
    "# load the input image, resize it, and convert it to grayscale\n",
    "image = cv2.imread(\"Img37.jpg\")\n",
    "image = imutils.resize(image, width=500)\n",
    "gray = cv2.cvtColor(image, cv2.COLOR_BGR2GRAY)\n",
    " \n",
    "# detect faces in the grayscale image\n",
    "rects = detector(gray, 1)\n",
    "# loop over the face detections\n",
    "for (i, rect) in enumerate(rects):\n",
    "    shape = predictor(gray, rect)\n",
    "    shape = face_utils.shape_to_np(shape)\n",
    " \n",
    "        \n",
    "    saturations = {}\n",
    "    rgb_pixels = []\n",
    "    hsv_pixels = []\n",
    "    for (name, (i, j)) in face_utils.FACIAL_LANDMARKS_IDXS.items():\n",
    "        print(name)\n",
    "        count = 0\n",
    "        #print(shape[i:j])\n",
    "        if(name == \"jaw\"):\n",
    "            k=0\n",
    "            while(k<9):\n",
    "                x1 = shape[i:j][k][0]\n",
    "                y1 = shape[i:j][k][1]\n",
    "                nextColumnY = shape[i:j][k+1][1]\n",
    "                x2 = shape[i:j][16-k][0]\n",
    "                print(x1,y1,x2,y1,nextColumnY)\n",
    "                while(y1<nextColumnY):\n",
    "                    while(x1<x2):\n",
    "                        \n",
    "                        rgb_pixel =  image[x1][y1]\n",
    "                        \n",
    "                        hsv_pixel = colorsys.rgb_to_hsv(rgb_pixel[0],rgb_pixel[1],rgb_pixel[2])\n",
    "                        rgb_pixels.append(rgb_pixel)\n",
    "                        hsv_pixels.append(hsv_pixel)\n",
    "                        saturations.update({count:hsv_pixel[1]})\n",
    "                        #cv2.circle(image, (x1, y1), 1, (0, 210, 255), -1) \n",
    "                        #saturation.append(hsv_pixel[1])\n",
    "                        x1 = x1+10\n",
    "                        count = count+1\n",
    "                        \n",
    "                    y1 = y1+10\n",
    "                    x1 = shape[i:j][k][0]\n",
    "\n",
    "                k=k+1\n",
    "print(count)\n",
    "#saturation.sort()\n",
    "sorted_saturations = sorted(saturations.items(), key=operator.itemgetter(1))\n",
    "print(sorted_saturations[:100])\n",
    "\n",
    "# show the output image with the face detections + facial landmarks\n",
    "#cv2.imshow(\"Output\", image)\n",
    "#cv2.waitKey(0)                   \n",
    "                   \n",
    "                   "
   ]
  },
  {
   "cell_type": "code",
   "execution_count": 28,
   "metadata": {},
   "outputs": [
    {
     "ename": "AttributeError",
     "evalue": "'tuple' object has no attribute 'shape'",
     "output_type": "error",
     "traceback": [
      "\u001b[0;31m---------------------------------------------------------------------------\u001b[0m",
      "\u001b[0;31mAttributeError\u001b[0m                            Traceback (most recent call last)",
      "\u001b[0;32m<ipython-input-28-1bfdab299de5>\u001b[0m in \u001b[0;36m<module>\u001b[0;34m()\u001b[0m\n\u001b[1;32m      3\u001b[0m \u001b[0;34m\u001b[0m\u001b[0m\n\u001b[1;32m      4\u001b[0m     \u001b[0mpoint\u001b[0m \u001b[0;34m=\u001b[0m \u001b[0mrgb_pixels\u001b[0m\u001b[0;34m[\u001b[0m\u001b[0mint\u001b[0m\u001b[0;34m(\u001b[0m\u001b[0msat\u001b[0m\u001b[0;34m[\u001b[0m\u001b[0;36m0\u001b[0m\u001b[0;34m]\u001b[0m\u001b[0;34m)\u001b[0m\u001b[0;34m]\u001b[0m\u001b[0;34m\u001b[0m\u001b[0m\n\u001b[0;32m----> 5\u001b[0;31m     \u001b[0msphere_coord\u001b[0m \u001b[0;34m=\u001b[0m \u001b[0mappendSpherical_np\u001b[0m\u001b[0;34m(\u001b[0m\u001b[0;34m(\u001b[0m\u001b[0mpoint\u001b[0m\u001b[0;34m[\u001b[0m\u001b[0;36m0\u001b[0m\u001b[0;34m]\u001b[0m\u001b[0;34m,\u001b[0m\u001b[0mpoint\u001b[0m\u001b[0;34m[\u001b[0m\u001b[0;36m1\u001b[0m\u001b[0;34m]\u001b[0m\u001b[0;34m,\u001b[0m\u001b[0mpoint\u001b[0m\u001b[0;34m[\u001b[0m\u001b[0;36m2\u001b[0m\u001b[0;34m]\u001b[0m\u001b[0;34m)\u001b[0m\u001b[0;34m)\u001b[0m\u001b[0;34m\u001b[0m\u001b[0m\n\u001b[0m\u001b[1;32m      6\u001b[0m     \u001b[0msphere_coords\u001b[0m\u001b[0;34m.\u001b[0m\u001b[0mappend\u001b[0m\u001b[0;34m(\u001b[0m\u001b[0msphere_coord\u001b[0m\u001b[0;34m)\u001b[0m\u001b[0;34m\u001b[0m\u001b[0m\n\u001b[1;32m      7\u001b[0m \u001b[0;34m\u001b[0m\u001b[0m\n",
      "\u001b[0;32m<ipython-input-12-21c383496a1a>\u001b[0m in \u001b[0;36mappendSpherical_np\u001b[0;34m(xyz)\u001b[0m\n\u001b[1;32m      2\u001b[0m \u001b[0;34m\u001b[0m\u001b[0m\n\u001b[1;32m      3\u001b[0m \u001b[0;32mdef\u001b[0m \u001b[0mappendSpherical_np\u001b[0m\u001b[0;34m(\u001b[0m\u001b[0mxyz\u001b[0m\u001b[0;34m)\u001b[0m\u001b[0;34m:\u001b[0m\u001b[0;34m\u001b[0m\u001b[0m\n\u001b[0;32m----> 4\u001b[0;31m     \u001b[0mptsnew\u001b[0m \u001b[0;34m=\u001b[0m \u001b[0mnp\u001b[0m\u001b[0;34m.\u001b[0m\u001b[0mhstack\u001b[0m\u001b[0;34m(\u001b[0m\u001b[0;34m(\u001b[0m\u001b[0mxyz\u001b[0m\u001b[0;34m,\u001b[0m \u001b[0mnp\u001b[0m\u001b[0;34m.\u001b[0m\u001b[0mzeros\u001b[0m\u001b[0;34m(\u001b[0m\u001b[0mxyz\u001b[0m\u001b[0;34m.\u001b[0m\u001b[0mshape\u001b[0m\u001b[0;34m)\u001b[0m\u001b[0;34m)\u001b[0m\u001b[0;34m)\u001b[0m\u001b[0;34m\u001b[0m\u001b[0m\n\u001b[0m\u001b[1;32m      5\u001b[0m     \u001b[0mxy\u001b[0m \u001b[0;34m=\u001b[0m \u001b[0mxyz\u001b[0m\u001b[0;34m[\u001b[0m\u001b[0;34m:\u001b[0m\u001b[0;34m,\u001b[0m\u001b[0;36m0\u001b[0m\u001b[0;34m]\u001b[0m\u001b[0;34m**\u001b[0m\u001b[0;36m2\u001b[0m \u001b[0;34m+\u001b[0m \u001b[0mxyz\u001b[0m\u001b[0;34m[\u001b[0m\u001b[0;34m:\u001b[0m\u001b[0;34m,\u001b[0m\u001b[0;36m1\u001b[0m\u001b[0;34m]\u001b[0m\u001b[0;34m**\u001b[0m\u001b[0;36m2\u001b[0m\u001b[0;34m\u001b[0m\u001b[0m\n\u001b[1;32m      6\u001b[0m     \u001b[0mptsnew\u001b[0m\u001b[0;34m[\u001b[0m\u001b[0;34m:\u001b[0m\u001b[0;34m,\u001b[0m\u001b[0;36m3\u001b[0m\u001b[0;34m]\u001b[0m \u001b[0;34m=\u001b[0m \u001b[0mnp\u001b[0m\u001b[0;34m.\u001b[0m\u001b[0msqrt\u001b[0m\u001b[0;34m(\u001b[0m\u001b[0mxy\u001b[0m \u001b[0;34m+\u001b[0m \u001b[0mxyz\u001b[0m\u001b[0;34m[\u001b[0m\u001b[0;34m:\u001b[0m\u001b[0;34m,\u001b[0m\u001b[0;36m2\u001b[0m\u001b[0;34m]\u001b[0m\u001b[0;34m**\u001b[0m\u001b[0;36m2\u001b[0m\u001b[0;34m)\u001b[0m\u001b[0;34m\u001b[0m\u001b[0m\n",
      "\u001b[0;31mAttributeError\u001b[0m: 'tuple' object has no attribute 'shape'"
     ]
    }
   ],
   "source": [
    "sphere_coords = []\n",
    "for sat in sorted_saturations:\n",
    "    \n",
    "    point = rgb_pixels[int(sat[0])]\n",
    "    sphere_coord = appendSpherical_np((point[0],point[1],point[2]))\n",
    "    sphere_coords.append(sphere_coord)\n",
    "    \n",
    "print(sphere_coords)"
   ]
  },
  {
   "cell_type": "code",
   "execution_count": null,
   "metadata": {
    "collapsed": true
   },
   "outputs": [],
   "source": []
  }
 ],
 "metadata": {
  "kernelspec": {
   "display_name": "Python 3",
   "language": "python",
   "name": "python3"
  },
  "language_info": {
   "codemirror_mode": {
    "name": "ipython",
    "version": 3
   },
   "file_extension": ".py",
   "mimetype": "text/x-python",
   "name": "python",
   "nbconvert_exporter": "python",
   "pygments_lexer": "ipython3",
   "version": "3.6.1"
  }
 },
 "nbformat": 4,
 "nbformat_minor": 2
}
